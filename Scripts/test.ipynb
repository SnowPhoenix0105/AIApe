{
 "metadata": {
  "language_info": {
   "codemirror_mode": {
    "name": "ipython",
    "version": 3
   },
   "file_extension": ".py",
   "mimetype": "text/x-python",
   "name": "python",
   "nbconvert_exporter": "python",
   "pygments_lexer": "ipython3",
   "version": "3.8.5"
  },
  "orig_nbformat": 2,
  "kernelspec": {
   "name": "python385jvsc74a57bd094d742488b79c0b16434f5d9086da32aa85851a3379e4480ae6fd00a23847f2e",
   "display_name": "Python 3.8.5 64-bit ('base': conda)"
  }
 },
 "nbformat": 4,
 "nbformat_minor": 2,
 "cells": [
  {
   "cell_type": "code",
   "execution_count": 58,
   "metadata": {},
   "outputs": [],
   "source": [
    "from utils.Poster import post, get, set_default_jwt"
   ]
  },
  {
   "cell_type": "code",
   "execution_count": 59,
   "metadata": {},
   "outputs": [],
   "source": [
    "def print_rsp(rsp: str):\n",
    "    import json\n",
    "    print(json.dumps(rsp, indent=4, ensure_ascii=False))\n"
   ]
  },
  {
   "cell_type": "code",
   "execution_count": 60,
   "metadata": {},
   "outputs": [
    {
     "output_type": "stream",
     "name": "stdout",
     "text": [
      "login success\n"
     ]
    }
   ],
   "source": [
    "jwt = None\n",
    "\n",
    "def login():\n",
    "    global jwt\n",
    "    email = \"snowphoenix@buaa\"\n",
    "    password = \"snowphoenix\"\n",
    "    rsp = post(\"/api/user/login\", { \"email\" : email, \"password\": password})\n",
    "    if rsp[\"status\"] == \"success\":\n",
    "        print(\"login success\")\n",
    "        token = rsp[\"token\"]\n",
    "        jwt = token\n",
    "        set_default_jwt(jwt)\n",
    "    else:\n",
    "        print(rsp[\"message\"])\n",
    "\n",
    "login()"
   ]
  },
  {
   "cell_type": "code",
   "execution_count": 61,
   "metadata": {},
   "outputs": [
    {
     "output_type": "execute_result",
     "data": {
      "text/plain": [
       "[1978,\n",
       " 1977,\n",
       " 1976,\n",
       " 1975,\n",
       " 1974,\n",
       " 1973,\n",
       " 1972,\n",
       " 1971,\n",
       " 1970,\n",
       " 1969,\n",
       " 1968,\n",
       " 1967,\n",
       " 1966,\n",
       " 1965,\n",
       " 1964,\n",
       " 1963,\n",
       " 1962,\n",
       " 1961,\n",
       " 1960,\n",
       " 1959]"
      ]
     },
     "metadata": {},
     "execution_count": 61
    }
   ],
   "source": [
    "question_list = None\n",
    "\n",
    "def get_question_list():\n",
    "    global question_list\n",
    "    rep = post(\"/api/questions/questionlist\", {\"tags\":[], \"number\" : 20})\n",
    "    question_list = rep\n",
    "    \n",
    "get_question_list()\n",
    "question_list"
   ]
  },
  {
   "cell_type": "code",
   "execution_count": 62,
   "metadata": {},
   "outputs": [
    {
     "output_type": "stream",
     "name": "stdout",
     "text": [
      "{\n    \"status\": \"success\",\n    \"message\": \"get question with qid=1978 successfully\",\n    \"question\": {\n        \"title\": \"VC6.0不能打开工程·····\",\n        \"remarks\": \"如果我想要打开工程，就会出现![图片说明](https://img-ask.csdn.net/upload/201901/11/1547181690_168728.png)\\r\\n然后我点击 调试程序，就出现![图片说明](https://img-ask.csdn.net/upload/201901/11/1547181750_534228.png)我选择的yes，然后就会打开另外一个软件![图片说明](https://img-ask.csdn.net/upload/201901/11/1547182037_250253.png)最后会跳出这个框![图片说明](https://img-ask.csdn.net/upload/201901/11/1547182096_437283.png)之后就一直解决不了这个问题，整一个都没看懂·····希望各位大神能够帮帮我，这个问题我百度了好久也不会·····\",\n        \"creator\": 1,\n        \"like\": true,\n        \"likeNum\": 1,\n        \"creatTime\": \"2021/05/26-14:32:48\",\n        \"modifyTime\": \"2021/05/26-14:32:48\",\n        \"tags\": {},\n        \"answers\": [\n            1978\n        ]\n    }\n}\n"
     ]
    }
   ],
   "source": [
    "question_info = None\n",
    "def get_question_info():\n",
    "    global question_info\n",
    "    question_info = get(\"/api/questions/question?qid=\" + str(question_list[0]))\n",
    "    print_rsp(question_info)\n",
    "\n",
    "get_question_info()"
   ]
  },
  {
   "cell_type": "code",
   "execution_count": 63,
   "metadata": {},
   "outputs": [
    {
     "output_type": "stream",
     "name": "stdout",
     "text": [
      "{\n    \"status\": \"alreadyLiked\",\n    \"message\": \"fail to mark question as like because user has already like the question.\",\n    \"like\": true,\n    \"likeNum\": 1\n}\n"
     ]
    }
   ],
   "source": [
    "def like_question():\n",
    "    rsp = post(\"/api/questions/like_question\", { \"qid\" : question_list[0], \"markAsLike\" : True})\n",
    "    print_rsp(rsp)\n",
    "\n",
    "like_question()"
   ]
  },
  {
   "cell_type": "code",
   "execution_count": 64,
   "metadata": {},
   "outputs": [
    {
     "output_type": "stream",
     "name": "stdout",
     "text": [
      "{\n    \"status\": \"success\",\n    \"message\": \"success to unmark question as like.\",\n    \"like\": false,\n    \"likeNum\": 0\n}\n"
     ]
    }
   ],
   "source": [
    "def dislike_question():\n",
    "    rsp = post(\"/api/questions/like_question\", { \"qid\" : question_list[0], \"markAsLike\" : False})\n",
    "    print_rsp(rsp)\n",
    "\n",
    "dislike_question()"
   ]
  },
  {
   "cell_type": "code",
   "execution_count": 65,
   "metadata": {},
   "outputs": [
    {
     "output_type": "stream",
     "name": "stdout",
     "text": [
      "{\n    \"status\": \"success\",\n    \"message\": \"success to mark answer as like.\",\n    \"like\": true,\n    \"likeNum\": 1\n}\n"
     ]
    }
   ],
   "source": [
    "def like_answer():\n",
    "    rsp = post(\"/api/questions/like_answer\", { \"aid\" : question_info[\"question\"][\"answers\"][0], \"markAsLike\" : True})\n",
    "    print_rsp(rsp)\n",
    "\n",
    "like_answer()"
   ]
  },
  {
   "cell_type": "code",
   "execution_count": 66,
   "metadata": {},
   "outputs": [
    {
     "output_type": "stream",
     "name": "stdout",
     "text": [
      "{\n    \"status\": \"success\",\n    \"message\": \"success to unmark answer as like.\",\n    \"like\": false,\n    \"likeNum\": 0\n}\n"
     ]
    }
   ],
   "source": [
    "def dislike_answer():\n",
    "    rsp = post(\"/api/questions/like_answer\", { \"aid\" : question_info[\"question\"][\"answers\"][0], \"markAsLike\" : False})\n",
    "    print_rsp(rsp)\n",
    "\n",
    "dislike_answer()"
   ]
  },
  {
   "cell_type": "code",
   "execution_count": null,
   "metadata": {},
   "outputs": [],
   "source": []
  }
 ]
}
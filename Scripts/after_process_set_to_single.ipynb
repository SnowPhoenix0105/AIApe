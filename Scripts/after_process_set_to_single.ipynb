{
 "metadata": {
  "language_info": {
   "codemirror_mode": {
    "name": "ipython",
    "version": 3
   },
   "file_extension": ".py",
   "mimetype": "text/x-python",
   "name": "python",
   "nbconvert_exporter": "python",
   "pygments_lexer": "ipython3",
   "version": "3.8.5"
  },
  "orig_nbformat": 2,
  "kernelspec": {
   "name": "python385jvsc74a57bd094d742488b79c0b16434f5d9086da32aa85851a3379e4480ae6fd00a23847f2e",
   "display_name": "Python 3.8.5 64-bit ('base': conda)"
  }
 },
 "nbformat": 4,
 "nbformat_minor": 2,
 "cells": [
  {
   "cell_type": "code",
   "execution_count": 12,
   "metadata": {},
   "outputs": [
    {
     "output_type": "execute_result",
     "data": {
      "text/plain": [
       "'d:\\\\Projects\\\\C#\\\\AIBot\\\\Scripts'"
      ]
     },
     "metadata": {},
     "execution_count": 12
    }
   ],
   "source": [
    "import os\n",
    "import sys\n",
    "import json\n",
    "\n",
    "base_dir = sys.path[0]\n",
    "base_dir"
   ]
  },
  {
   "cell_type": "code",
   "execution_count": 13,
   "metadata": {},
   "outputs": [],
   "source": [
    "target_dir = os.path.join(os.path.join(base_dir, \"after_process\"), \"95\")\n",
    "\n",
    "targets = os.listdir(target_dir)\n",
    "# targets"
   ]
  },
  {
   "cell_type": "code",
   "execution_count": 14,
   "metadata": {},
   "outputs": [],
   "source": [
    "res = []\n",
    "for target in targets:\n",
    "    full_name = os.path.join(target_dir, target)\n",
    "    with open(full_name, 'r', encoding='utf8') as f:\n",
    "        content = json.load(f)\n",
    "    res.append(content)\n",
    "\n",
    "with open(os.path.join(base_dir, \"csdn_data.json\"), 'w', encoding='utf8') as f:\n",
    "    json.dump(res, f, ensure_ascii=False, indent=4)\n"
   ]
  },
  {
   "cell_type": "code",
   "execution_count": 15,
   "metadata": {},
   "outputs": [
    {
     "output_type": "execute_result",
     "data": {
      "text/plain": [
       "147"
      ]
     },
     "metadata": {},
     "execution_count": 15
    }
   ],
   "source": [
    "max_title_length = max(map(len, map(lambda q : q[\"q\"][\"title\"], res)))\n",
    "\n",
    "max_title_length"
   ]
  },
  {
   "cell_type": "code",
   "execution_count": 16,
   "metadata": {
    "tags": []
   },
   "outputs": [
    {
     "output_type": "stream",
     "name": "stdout",
     "text": [
      "C/C++  c/c++ OpenGL VS2019 错误LNK2019 无法解析的外部符号 _vsprintf，该符号在函数 _PrintMessage 中被引用\tOpenGLExercise01\tD:\\VSTerm\\OpenGLExercise01\\glaux.lib(tk.obj)\t1\t\nC/C++ OpenGL VS2019 错误LNK2019 无法解析的外部符号 _vsprintf，该符号在函数 _PrintMessage 中被引用\tOpenGLExercise01\tD:\\VSTerm\\OpenGLExercise01\\glaux.lib(tk.obj)\t1\t\nc++文件报错：错误(活动)\tE1776\t无法引用 函数 \"std::basic_ifstream<_Elem, _Traits>::basic_ifstream(const std::basic_ifstream<_Elem, _Traits> &)\nvs2017汇编程序链接报错 LNK1104\t无法打开文件“x64\\Debug\\assm.obj”\tProject1\tC:\\Users\\lenovo\\Desktop\\program\\assembly\\Project1\\Project1\\LINK\t1\n如下，这是一个十六进制转换成10进制的程序，我定义了long long型的值，来计算转换的值，但是当输入的值为FFFFFFFF时，cout的值会变成-1，这个值应该是4294967295，为什么会这样？\nC/C++ 静态库的函数找不到 \tLNK2019\t无法解析的外部符号 \"int __cdecl Lib_Test(void)\" (?Lib_Test@@YAHXZ)，该符号在函数 _main 中被引用\nOpengl小程序 VS2019  fatal error C1107: 未能找到程序集“platform.winmd”: 请使用 /AI 或通过设置 LIBPATH 环境变量指定程序集搜索路径\nC语言  为什么运行结果是def cdef bcdef abcdef 6(空格代表换行)而不是d cd bcd abcd 5?  strcpy(b2,pb);是将pb整个数组赋值给了b2吗？\n初学c，在用vc6.0，执行代码时一直会出现一个错误，然后不能执行还会出现提示（如图），遇到这个问题上百度查了好久，说是路径问题，但改了路径还是没有解决，该怎末解决?(windows10)\nC语言编程题 某宾馆共有50个标准间，假设一个标准间定价为356元，宾馆规定：预定10房间及以上的团队优惠20%；不足10房间的团队优惠10%；请你根据预定房间数，计算出应付总房费？\n"
     ]
    }
   ],
   "source": [
    "print(\"\\n\".join(q[\"q\"][\"title\"] for q in sorted(res, key=lambda q: len(q[\"q\"][\"title\"]), reverse=True)[:10]))"
   ]
  },
  {
   "cell_type": "code",
   "execution_count": null,
   "metadata": {},
   "outputs": [],
   "source": []
  }
 ]
}